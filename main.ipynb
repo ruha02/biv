{
 "cells": [
  {
   "cell_type": "markdown",
   "metadata": {},
   "source": [
    "# Алгоритм выявления связей между контрагентами"
   ]
  },
  {
   "cell_type": "markdown",
   "metadata": {},
   "source": [
    "## Установка библиотек"
   ]
  },
  {
   "cell_type": "code",
   "execution_count": null,
   "metadata": {},
   "outputs": [],
   "source": [
    "%pip install pandas numpy\n",
    "import warnings\n",
    "warnings.filterwarnings('ignore')"
   ]
  },
  {
   "cell_type": "code",
   "execution_count": null,
   "metadata": {},
   "outputs": [],
   "source": [
    "import pandas as pd\n",
    "from pandas import DataFrame\n",
    "import csv\n",
    "import re\n"
   ]
  },
  {
   "cell_type": "markdown",
   "metadata": {},
   "source": [
    "## Проверяем и иправляем датасеты"
   ]
  },
  {
   "cell_type": "code",
   "execution_count": null,
   "metadata": {},
   "outputs": [],
   "source": [
    "def replace_newlines(input_file_path) -> str:\n",
    "    \"\"\"\n",
    "    Заменяет в файле все вхождения \\n[^0-9] на пустую строку\n",
    "    \n",
    "    \"\"\"\n",
    "    with open(input_file_path, 'r', encoding='utf-8') as file:\n",
    "        content = file.read()\n",
    "    modified_content = \"\"\n",
    "    while modified_content != content:\n",
    "        modified_content = content\n",
    "        content = re.sub(r'\\n[^0-9]', '', content)\n",
    "    with open(input_file_path, 'w', encoding='utf-8') as file:\n",
    "        file.write(modified_content)\n",
    "    return modified_content\n",
    "\n",
    "rows = replace_newlines(\"company.tsv\")\n",
    "print(\"Проверка файла company.tsv завершена.\")\n",
    "rows = replace_newlines(\"founder_legal.tsv\")\n",
    "print(\"Проверка файла founder_legal.tsv завершена.\")\n",
    "rows = replace_newlines(\"founder_natural.tsv\")\n",
    "print(\"Проверка файла founder_natural.tsv завершена.\")"
   ]
  },
  {
   "cell_type": "markdown",
   "metadata": {},
   "source": [
    "## Загрузка датасетов и формирование единого датасета учредителей"
   ]
  },
  {
   "cell_type": "code",
   "execution_count": null,
   "metadata": {},
   "outputs": [],
   "source": [
    "df_company = pd.read_csv(\"company.tsv\", sep=\"\\t\")\n",
    "l_founder = pd.read_csv(\"founder_legal.tsv\", sep=\"\\t\")\n",
    "n_founder = pd.read_csv(\"founder_natural.tsv\", sep=\"\\t\")"
   ]
  },
  {
   "cell_type": "code",
   "execution_count": null,
   "metadata": {},
   "outputs": [],
   "source": [
    "founders = pd.concat([\n",
    "    l_founder[['inn', 'company_id', 'share', 'share_percent']].assign(is_person=0),\n",
    "    n_founder[['inn', 'company_id', 'share', 'share_percent']].assign(is_person=1)\n",
    "])"
   ]
  },
  {
   "cell_type": "markdown",
   "metadata": {},
   "source": [
    "## Очищаем датасет от дубликатов\n",
    "\n",
    "Дубликатом считается если одинаковые inn, company_id, share и share_percent пустой.\n",
    "\n",
    "Если будут найдены записи у которых одинаковые inn, company_id, share, но при этом будет существовать у одной записи shared_percent, то другие удалить\n",
    "\n",
    "Если компании-учредителя нет в датасете компаний, то удаляем, поскольку у нас нет company_id данной компании, чтобы найти ее учредителей"
   ]
  },
  {
   "cell_type": "code",
   "execution_count": null,
   "metadata": {},
   "outputs": [],
   "source": [
    "def clean_duplicates(df) -> DataFrame:\n",
    "    df_cleaned = df.copy()\n",
    "    duplicates_mask = (\n",
    "        df_cleaned.duplicated(subset=[\"inn\", \"company_id\", \"share\"], keep=\"first\")\n",
    "        & df_cleaned[\"share_percent\"].isna()\n",
    "    )\n",
    "    df_cleaned = df_cleaned[~duplicates_mask]\n",
    "\n",
    "    df_cleaned = (\n",
    "        df_cleaned.groupby([\"inn\", \"company_id\", \"share\"])\n",
    "        .apply(\n",
    "            lambda x: (\n",
    "                x[x[\"share_percent\"].notna()]\n",
    "                if (len(x) > 1 and x[\"share_percent\"].notna().any())\n",
    "                else x\n",
    "            )\n",
    "        )\n",
    "        .reset_index(drop=True)\n",
    "    )\n",
    "\n",
    "    return df_cleaned"
   ]
  },
  {
   "cell_type": "code",
   "execution_count": null,
   "metadata": {},
   "outputs": [],
   "source": [
    "print(f\"Количество учредителей до очистки ФЛ:  {len(founders)}\")\n",
    "founders = clean_duplicates(founders)\n",
    "print(f\"Количество учредителей после очистки ФЛ:  {len(founders)}\")\n"
   ]
  },
  {
   "cell_type": "code",
   "execution_count": null,
   "metadata": {},
   "outputs": [],
   "source": [
    "print(f\"Количество учредителей до очистки ЮЛ:  {len(founders)}\")\n",
    "founders = founders[\n",
    "    (founders['is_person'] == 1) | \n",
    "    ((founders['is_person'] == 0) & (founders['inn'].isin(df_company['inn'].unique())))\n",
    "]\n",
    "print(f\"Количество учредителей после очистки ЮЛ:  {len(founders)}\")"
   ]
  },
  {
   "cell_type": "code",
   "execution_count": null,
   "metadata": {},
   "outputs": [],
   "source": [
    "def get_percent_na_share_percent() -> float:\n",
    "    return founders[\"share_percent\"].isna().sum() / len(founders)"
   ]
  },
  {
   "cell_type": "markdown",
   "metadata": {},
   "source": [
    "## Предобработка данных"
   ]
  },
  {
   "cell_type": "markdown",
   "metadata": {},
   "source": [
    "Далее мы заполним значения share_percent следуюя следующей логики:\n",
    "- Если для одного company_id есть все значения share, то share_percent расчитывается как доля share к общей доле.\n",
    "- Если для одного company_id в share_percent отсутсвует одно значение, то оно вычисляется как разница 1 к сумме оставшихся значений\n",
    "- Если для одного company_id share_percent и share отсутвуют и существует только один учредитель, то значение share_percent равно 1.0\n",
    "- Если для одного company_id есть учредитель у которого есть пара share и share_percent, то использовать соотношение этих значений, чтобы найти неизвестное значение share_percent для других учредителей"
   ]
  },
  {
   "cell_type": "markdown",
   "metadata": {},
   "source": [
    "### Известны все доли в рублях у всех учредителей\n"
   ]
  },
  {
   "cell_type": "code",
   "execution_count": null,
   "metadata": {},
   "outputs": [],
   "source": [
    "def fill_missing_share_percent_by_share(df) -> DataFrame:\n",
    "    def action(group) -> DataFrame:\n",
    "        mask = group.index\n",
    "        if group['share_percent'].isna().any():\n",
    "            share_sum = group['share'].sum()\n",
    "            df.loc[mask, 'share_percent'] = group['share'] / share_sum\n",
    "\n",
    "    return df.groupby('company_id', group_keys=False).apply(action)"
   ]
  },
  {
   "cell_type": "code",
   "execution_count": null,
   "metadata": {},
   "outputs": [],
   "source": [
    "print(\"Известны все доли в рублях у всех урчедителей\")\n",
    "print(f\"Процент незаполненных share_percent: {get_percent_na_share_percent()*100:.2f}%\")\n",
    "fill_missing_share_percent_by_share(founders)\n",
    "print(f\"Процент незаполненных share_percent (после предобработки): {get_percent_na_share_percent()*100:.2f}%\")\n"
   ]
  },
  {
   "cell_type": "markdown",
   "metadata": {},
   "source": [
    "### Единный учредитель"
   ]
  },
  {
   "cell_type": "code",
   "execution_count": null,
   "metadata": {},
   "outputs": [],
   "source": [
    "def fill_missing_share_percent_to_single_founders(df) -> DataFrame:\n",
    "    def action(group) -> DataFrame:\n",
    "        if len(group) == 1:\n",
    "            group['share_percent'] = 1.0\n",
    "            return group\n",
    "\n",
    "    return df.groupby('company_id', group_keys=False).apply(action)"
   ]
  },
  {
   "cell_type": "code",
   "execution_count": null,
   "metadata": {},
   "outputs": [],
   "source": [
    "print(\"Единный учредитель\")\n",
    "print(f\"Процент незаполненных share_percent: {get_percent_na_share_percent()*100:.2f}%\")\n",
    "fill_missing_share_percent_to_single_founders(founders)\n",
    "print(f\"Процент незаполненных share_percent (после предобработки): {get_percent_na_share_percent()*100:.2f}%\")"
   ]
  },
  {
   "cell_type": "markdown",
   "metadata": {},
   "source": [
    "### Известны все доли в процентах, кроме одной"
   ]
  },
  {
   "cell_type": "code",
   "execution_count": null,
   "metadata": {},
   "outputs": [],
   "source": [
    "def fill_missing_share_percent_by_other_share_percent(df) -> DataFrame:\n",
    "    def action(group) -> DataFrame:\n",
    "        missing_count = group['share_percent'].isna().sum()\n",
    "        if missing_count == 1:\n",
    "            existing_sum = group['share_percent'].sum()\n",
    "            missing_idx = group[group['share_percent'].isna()].index[0]\n",
    "            df.loc[missing_idx, 'share_percent'] = 1.0 - existing_sum\n",
    "\n",
    "    return df.groupby('company_id', group_keys=False).apply(action)"
   ]
  },
  {
   "cell_type": "code",
   "execution_count": null,
   "metadata": {},
   "outputs": [],
   "source": [
    "print(\"Известны все доли в процентах, кроме одной\")\n",
    "print(f\"Процент незаполненных share_percent: {get_percent_na_share_percent()*100:.2f}%\")\n",
    "fill_missing_share_percent_by_other_share_percent(founders)\n",
    "print(f\"Процент незаполненных share_percent (после предобработки): {get_percent_na_share_percent()*100:.2f}%\")\n"
   ]
  },
  {
   "cell_type": "markdown",
   "metadata": {},
   "source": [
    "### Известна пропорция одного из участников (share_percent/share) и есть значение share"
   ]
  },
  {
   "cell_type": "code",
   "execution_count": null,
   "metadata": {},
   "outputs": [],
   "source": [
    "def fill_missing_share_percent_by_ratio(df) -> DataFrame:\n",
    "    def action(group) -> DataFrame:\n",
    "        reference = group[(group['share'].notna()) & \n",
    "                         (group['share_percent'].notna()) & \n",
    "                         (group['share'] > 0) & \n",
    "                         (group['share_percent'] > 0)]\n",
    "        if not reference.empty:\n",
    "            ref_row = reference.iloc[0]\n",
    "            ratio = ref_row['share_percent'] / ref_row['share']\n",
    "            missing_mask = group['share_percent'].isna() & group['share'].notna()\n",
    "            group.loc[missing_mask, 'share_percent'] = group.loc[missing_mask, 'share'] * ratio\n",
    "            return group\n",
    "\n",
    "    return df.groupby('company_id', group_keys=False).apply(action)"
   ]
  },
  {
   "cell_type": "code",
   "execution_count": null,
   "metadata": {},
   "outputs": [],
   "source": [
    "print(\"Известна пропорция одного из участников\")\n",
    "print(f\"Процент незаполненных share_percent: {get_percent_na_share_percent()*100:.2f}%\")\n",
    "fill_missing_share_percent_by_ratio(founders)\n",
    "print(f\"Процент незаполненных share_percent (после предобработки): {get_percent_na_share_percent()*100:.2f}%\")"
   ]
  },
  {
   "cell_type": "markdown",
   "metadata": {},
   "source": [
    "# Составление списков учредителей с учетом косвенных долей"
   ]
  },
  {
   "cell_type": "code",
   "execution_count": null,
   "metadata": {},
   "outputs": [],
   "source": [
    "\n",
    "def calculate_ownership(founders_df, df_company) -> DataFrame:\n",
    "    result = []\n",
    "    \n",
    "    def get_ownership_chain(company_id, current_share=1.0, visited=None):\n",
    "        if visited is None:\n",
    "            visited = set()\n",
    "        \n",
    "        if company_id in visited:\n",
    "            return\n",
    "        \n",
    "        visited.add(company_id)\n",
    "        \n",
    "        company_founders = founders_df[founders_df['company_id'] == company_id]\n",
    "        \n",
    "        for _, founder in company_founders.iterrows():\n",
    "            new_share = current_share * founder['share_percent']\n",
    "            \n",
    "            if founder['is_person'] == 1:\n",
    "                result.append({\n",
    "                    'company_id': company_id,\n",
    "                    'inn': founder['inn'],\n",
    "                    'share_percent': new_share\n",
    "                })\n",
    "            else:\n",
    "                # Если владелец - компания, рекурсивно вызываем функцию для этой компании\n",
    "                founder_company = df_company[df_company['inn'] == founder['inn']]\n",
    "                if not founder_company.empty:\n",
    "                    get_ownership_chain(founder_company.iloc[0]['id'], new_share, visited.copy())\n",
    "    \n",
    "    for company_id in df_company['id'].unique():\n",
    "        get_ownership_chain(company_id)\n",
    "    \n",
    "    return pd.DataFrame(result)\n",
    "\n"
   ]
  },
  {
   "cell_type": "code",
   "execution_count": null,
   "metadata": {},
   "outputs": [],
   "source": [
    "ownership = calculate_ownership(founders, df_company)"
   ]
  },
  {
   "cell_type": "markdown",
   "metadata": {},
   "source": [
    "# Сохраняем результаты"
   ]
  },
  {
   "cell_type": "code",
   "execution_count": null,
   "metadata": {},
   "outputs": [],
   "source": [
    "def create_tsv_output(df_company, n_founder, ownership, output_file='results.tsv'):\n",
    "    valid_companies = ownership[ownership['share_percent'] >= 0.25]['company_id'].unique()\n",
    "    valid_companies.sort()\n",
    "    with open(output_file, 'w', encoding='utf-8', newline='') as f:\n",
    "        writer = csv.writer(f, delimiter='\\t')\n",
    "        for company_id in valid_companies:\n",
    "            company = df_company[df_company['id'] == company_id]\n",
    "            if len(company) == 0:\n",
    "                continue\n",
    "            else:\n",
    "                company = company.iloc[0]\n",
    "            company_founders = ownership[\n",
    "                (ownership['company_id'] == company_id) & \n",
    "                (ownership['share_percent'] >= 0.25)\n",
    "            ]\n",
    "            if len(company_founders) > 0:\n",
    "                writer.writerow([\n",
    "                    company_id, \n",
    "                    company['ogrn'], \n",
    "                    company['inn'], \n",
    "                    company['full_name']\n",
    "                ])\n",
    "                for _, founder in company_founders.iterrows():\n",
    "                    person = n_founder[n_founder['inn'] == founder['inn']]\n",
    "                    if len(person) == 0:\n",
    "                        continue\n",
    "                    else:\n",
    "                        person = person.iloc[0]\n",
    "                    full_name = f\"{person['last_name']} {person['first_name']} {person['second_name']}\"\n",
    "                    writer.writerow([\n",
    "                        '', \n",
    "                        f\"{str(int(founder['inn'])):012}\", \n",
    "                        full_name, \n",
    "                        f\"{founder['share_percent'] * 100:.2f}\"\n",
    "                    ])\n",
    "\n",
    "create_tsv_output(df_company, n_founder, founders)"
   ]
  }
 ],
 "metadata": {
  "kernelspec": {
   "display_name": ".venv",
   "language": "python",
   "name": "python3"
  },
  "language_info": {
   "codemirror_mode": {
    "name": "ipython",
    "version": 3
   },
   "file_extension": ".py",
   "mimetype": "text/x-python",
   "name": "python",
   "nbconvert_exporter": "python",
   "pygments_lexer": "ipython3",
   "version": "3.12.2"
  }
 },
 "nbformat": 4,
 "nbformat_minor": 2
}
